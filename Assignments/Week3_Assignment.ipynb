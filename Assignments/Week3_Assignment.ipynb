{
 "cells": [
  {
   "cell_type": "code",
   "execution_count": null,
   "metadata": {},
   "outputs": [],
   "source": [
    "\n",
    "import pandas as pd\n",
    "import numpy as np\n",
    "import os\n",
    "\n",
    "import warnings\n",
    "warnings.filterwarnings('ignore')\n",
    "cwd = os.getcwd()"
   ]
  },
  {
   "cell_type": "code",
   "execution_count": null,
   "metadata": {},
   "outputs": [],
   "source": [
    "# read in excel file and skip header and footer\n",
    "energy = pd.read_excel('assets/Energy Indicators.xls', \n",
    "                       skiprows = 17, \n",
    "                       skipfooter = 38)\n",
    "energy.head()"
   ]
  },
  {
   "cell_type": "code",
   "execution_count": null,
   "metadata": {
    "scrolled": true
   },
   "outputs": [],
   "source": [
    "energy=energy.iloc[:, 2: ]\n",
    "energy"
   ]
  },
  {
   "cell_type": "code",
   "execution_count": null,
   "metadata": {},
   "outputs": [],
   "source": [
    "energy = energy.rename(columns={'Unnamed: 2':'Country',\n",
    "                                'Petajoules':'Energy Supply',\n",
    "                                'Gigajoules':'Energy Supply per Capita',\n",
    "                                '%':'% Renewable'})\n",
    "energy"
   ]
  },
  {
   "cell_type": "code",
   "execution_count": null,
   "metadata": {},
   "outputs": [],
   "source": [
    "energy = energy.replace('...', np.NaN)\n",
    "energy.head()"
   ]
  },
  {
   "cell_type": "code",
   "execution_count": null,
   "metadata": {},
   "outputs": [],
   "source": [
    "energy['Energy Supply'] = energy['Energy Supply'] * 1000000\n",
    "\n",
    "energy.head()"
   ]
  },
  {
   "cell_type": "code",
   "execution_count": null,
   "metadata": {},
   "outputs": [],
   "source": [
    "# get rid of footnotes\n",
    "energy['Country'] = energy['Country'].str.replace('\\d+', '')\n",
    "\n",
    "#get rid of parentheses\n",
    "energy['Country'] = energy['Country'].str.replace(r'\\([^)]*\\)', '')\n",
    "\n",
    "#get rid of whitespace\n",
    "energy['Country'] = energy['Country'].str.strip()\n",
    "energy\n"
   ]
  },
  {
   "cell_type": "code",
   "execution_count": null,
   "metadata": {},
   "outputs": [],
   "source": [
    "energy = energy.replace({'Country': \n",
    "                        {'Republic of Korea':'South Korea',\n",
    "                         'United States of America':'United States',\n",
    "                         'China, Hong Kong Special Administrative Region':'Hong Kong',\n",
    "                         'United Kingdom of Great Britain and Northern Ireland':'United Kingdom'}})\n",
    "energy"
   ]
  },
  {
   "cell_type": "code",
   "execution_count": null,
   "metadata": {},
   "outputs": [],
   "source": [
    "#with pd.option_context('display.max_rows', None, 'display.max_columns', None):\n",
    "    #display(energy['Country'])"
   ]
  },
  {
   "cell_type": "code",
   "execution_count": null,
   "metadata": {},
   "outputs": [],
   "source": [
    "gdp = pd.read_csv('assets/world_bank.csv', header = 4)\n",
    "gdp.head()"
   ]
  },
  {
   "cell_type": "code",
   "execution_count": null,
   "metadata": {},
   "outputs": [],
   "source": [
    "gdp = gdp.replace({'Country Name': {\n",
    "    'Korea, Rep.':'South Korea',\n",
    "    'Iran, Islamic Rep.':'Iran',\n",
    "    'Hong Kong SAR, China':'Hong Kong'\n",
    "}})\n",
    "gdp"
   ]
  },
  {
   "cell_type": "code",
   "execution_count": null,
   "metadata": {},
   "outputs": [],
   "source": [
    "scimen = pd.read_excel('assets/scimagojr-3.xlsx')\n",
    "scimen.head()"
   ]
  },
  {
   "cell_type": "code",
   "execution_count": null,
   "metadata": {},
   "outputs": [],
   "source": [
    "gdp = gdp[['Country Name', '2006', '2007', '2008',\n",
    "           '2009', '2010', '2011', '2012', '2013',\n",
    "           '2014', '2015']]\n",
    "gdp"
   ]
  },
  {
   "cell_type": "code",
   "execution_count": null,
   "metadata": {
    "scrolled": true
   },
   "outputs": [],
   "source": [
    "gdp = gdp.rename(columns={'Country Name': 'Country'})\n",
    "\n",
    "merged_df = pd.merge(scimen, energy, how='inner', on='Country')\n",
    "merged_df2 = pd.merge(merged_df, gdp, how='inner', on='Country')\n",
    "merged_df2 = merged_df2.set_index('Country')\n",
    "merged_df2"
   ]
  },
  {
   "cell_type": "code",
   "execution_count": null,
   "metadata": {},
   "outputs": [],
   "source": [
    "top15 = merged_df2.query('Rank < 16')\n",
    "top15"
   ]
  },
  {
   "cell_type": "code",
   "execution_count": null,
   "metadata": {},
   "outputs": [],
   "source": [
    "#??pd.read_csv"
   ]
  },
  {
   "cell_type": "markdown",
   "metadata": {},
   "source": [
    "## Question 1"
   ]
  },
  {
   "cell_type": "code",
   "execution_count": null,
   "metadata": {
    "scrolled": true
   },
   "outputs": [],
   "source": [
    "import pandas as pd\n",
    "import numpy as np\n",
    "import os\n",
    "\n",
    "import warnings\n",
    "warnings.filterwarnings('ignore')\n",
    "\n",
    "def answer_one():\n",
    "    energy = pd.read_excel('assets/Energy Indicators.xls', \n",
    "                       skiprows = 17, \n",
    "                       skipfooter = 38)\n",
    "    energy=energy.iloc[:, 2: ]\n",
    "    energy = energy.rename(columns={'Unnamed: 2':'Country',\n",
    "                                'Petajoules':'Energy Supply',\n",
    "                                'Gigajoules':'Energy Supply per Capita',\n",
    "                                '%':'% Renewable'})\n",
    "    energy = energy.replace('...', np.NaN)\n",
    "    energy['Energy Supply'] = energy['Energy Supply'] * 1000000\n",
    "    energy['Country'] = energy['Country'].str.replace('\\d+', '')\n",
    "    energy['Country'] = energy['Country'].str.replace(r'\\([^)]*\\)', '')\n",
    "    energy['Country'] = energy['Country'].str.strip()\n",
    "    energy = energy.replace({'Country': \n",
    "                            {'Republic of Korea':'South Korea',\n",
    "                             'United States of America':'United States',\n",
    "                             'China, Hong Kong Special Administrative Region':'Hong Kong',\n",
    "                             'United Kingdom of Great Britain and Northern Ireland':'United Kingdom'}})\n",
    "    gdp = pd.read_csv('assets/world_bank.csv', header = 4)\n",
    "    gdp = gdp.replace({'Country Name': {\n",
    "                       'Korea, Rep.':'South Korea',\n",
    "                       'Iran, Islamic Rep.':'Iran',\n",
    "                       'Hong Kong SAR, China':'Hong Kong'}})\n",
    "    scimen = pd.read_excel('assets/scimagojr-3.xlsx')\n",
    "    gdp = gdp[['Country Name', '2006', '2007', '2008',\n",
    "               '2009', '2010', '2011', '2012', '2013',\n",
    "               '2014', '2015']]\n",
    "    gdp = gdp.rename(columns={'Country Name': 'Country'})\n",
    "\n",
    "    merged_df = pd.merge(scimen, energy, how='inner', on='Country')\n",
    "    merged_df2 = pd.merge(merged_df, gdp, how='inner', on='Country')\n",
    "    merged_df2 = merged_df2.set_index('Country')\n",
    "    merged_df2\n",
    "    return merged_df2.query('Rank < 16')\n",
    "answer_one()"
   ]
  },
  {
   "cell_type": "code",
   "execution_count": null,
   "metadata": {},
   "outputs": [],
   "source": [
    "assert type(answer_one()) == pd.DataFrame, \"Q1: You should return a DataFrame!\"\n",
    "\n",
    "assert answer_one().shape == (15,20), \"Q1: Your DataFrame should have 20 columns and 15 entries!\"\n"
   ]
  },
  {
   "cell_type": "markdown",
   "metadata": {},
   "source": [
    "# Question 2"
   ]
  },
  {
   "cell_type": "code",
   "execution_count": null,
   "metadata": {},
   "outputs": [],
   "source": [
    "def answer_two():\n",
    "    \n",
    "    return len(merged_df2.index)-len(top15.index)\n",
    "\n",
    "print(answer_two())"
   ]
  },
  {
   "cell_type": "code",
   "execution_count": null,
   "metadata": {},
   "outputs": [],
   "source": [
    "assert type(answer_two()) == int, \"Q2: You should return an int number!\""
   ]
  },
  {
   "cell_type": "markdown",
   "metadata": {},
   "source": [
    "# Question 3"
   ]
  },
  {
   "cell_type": "code",
   "execution_count": null,
   "metadata": {
    "scrolled": false
   },
   "outputs": [],
   "source": [
    "def answer_three():\n",
    "    avgGDP = answer_one()\n",
    "    return avgGDP[[\"2006\",\"2007\",\"2008\",\"2009\",\"2010\",\"2011\",\"2012\",\"2013\",\"2014\",\"2015\"]].apply(np.mean,axis = 1).sort_values(ascending = False)\n",
    "answer_three()"
   ]
  },
  {
   "cell_type": "code",
   "execution_count": null,
   "metadata": {},
   "outputs": [],
   "source": [
    "assert type(answer_three()) == pd.Series, \"Q3: You should return a Series!\""
   ]
  },
  {
   "cell_type": "markdown",
   "metadata": {},
   "source": [
    "# Question 4"
   ]
  },
  {
   "cell_type": "code",
   "execution_count": null,
   "metadata": {
    "scrolled": true
   },
   "outputs": [],
   "source": [
    "def answer_four():\n",
    "    gdp_uk = gdp.query(\"Country == 'United Kingdom'\")\n",
    "    return gdp_uk['2015'] - gdp_uk['2006']\n",
    "answer_four()"
   ]
  },
  {
   "cell_type": "markdown",
   "metadata": {},
   "source": [
    "# Question 5"
   ]
  },
  {
   "cell_type": "code",
   "execution_count": null,
   "metadata": {},
   "outputs": [],
   "source": [
    "def answer_five():\n",
    "    meanEnergySupplyPerCapita = answer_one()\n",
    "    return meanEnergySupplyPerCapita['Energy Supply per Capita'].mean()\n",
    "answer_five()"
   ]
  },
  {
   "cell_type": "markdown",
   "metadata": {},
   "source": [
    "# Question 6"
   ]
  },
  {
   "cell_type": "code",
   "execution_count": null,
   "metadata": {},
   "outputs": [],
   "source": [
    "def answer_six():\n",
    "    top15 = answer_one()\n",
    "    max_renewable = top15.sort_values(by=['% Renewable'], ascending=False)\n",
    "    return tuple([max_renewable.index[0], max_renewable.iloc[0,9]])\n",
    "answer_six()\n"
   ]
  },
  {
   "cell_type": "code",
   "execution_count": null,
   "metadata": {},
   "outputs": [],
   "source": [
    "assert type(answer_six()) == tuple, \"Q6: You should return a tuple!\"\n",
    "\n",
    "assert type(answer_six()[0]) == str, \"Q6: The first element in your result should be the name of the country!\""
   ]
  },
  {
   "cell_type": "markdown",
   "metadata": {},
   "source": [
    "# Question 7"
   ]
  },
  {
   "cell_type": "code",
   "execution_count": null,
   "metadata": {},
   "outputs": [],
   "source": [
    "def answer_seven():\n",
    "    top15 = answer_one()\n",
    "    top15['Citation Ratio'] = top15['Self-citations']/top15['Citations']\n",
    "    top15['Citation Ratio'] = top15.sort_values(by=['Citation Ratio'], ascending=False)\n",
    "    return tuple ([top15.index[0]], )\n",
    "answer_seven()"
   ]
  },
  {
   "cell_type": "code",
   "execution_count": null,
   "metadata": {},
   "outputs": [],
   "source": [
    "assert type(answer_seven()) == tuple, \"Q7: You should return a tuple!\"\n",
    "\n",
    "assert type(answer_seven()[0]) == str, \"Q7: The first element in your result should be the name of the country!\"\n"
   ]
  },
  {
   "cell_type": "markdown",
   "metadata": {},
   "source": [
    "# Question 8"
   ]
  },
  {
   "cell_type": "code",
   "execution_count": null,
   "metadata": {},
   "outputs": [],
   "source": [
    "def answer_eight():\n",
    "    top15 = answer_one()\n",
    "    top15['Population'] = top15['Energy Supply']/top15['Energy Supply per Capita']\n",
    "    top15['Population'] = top15.sort_values(by=['Population'], ascending=False)\n",
    "    return top15['Population'].index[1]\n",
    "answer_eight()"
   ]
  },
  {
   "cell_type": "code",
   "execution_count": null,
   "metadata": {},
   "outputs": [],
   "source": [
    "assert type(answer_eight()) == str, \"Q8: You should return the name of the country!\""
   ]
  },
  {
   "cell_type": "code",
   "execution_count": null,
   "metadata": {},
   "outputs": [],
   "source": []
  }
 ],
 "metadata": {
  "kernelspec": {
   "display_name": "Python 3",
   "language": "python",
   "name": "python3"
  },
  "language_info": {
   "codemirror_mode": {
    "name": "ipython",
    "version": 3
   },
   "file_extension": ".py",
   "mimetype": "text/x-python",
   "name": "python",
   "nbconvert_exporter": "python",
   "pygments_lexer": "ipython3",
   "version": "3.8.5"
  }
 },
 "nbformat": 4,
 "nbformat_minor": 4
}
