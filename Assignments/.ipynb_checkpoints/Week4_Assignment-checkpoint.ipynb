{
 "cells": [
  {
   "cell_type": "markdown",
   "metadata": {},
   "source": [
    "# Question 1"
   ]
  },
  {
   "cell_type": "code",
   "execution_count": 38,
   "metadata": {},
   "outputs": [
    {
     "data": {
      "text/html": [
       "<div>\n",
       "<style scoped>\n",
       "    .dataframe tbody tr th:only-of-type {\n",
       "        vertical-align: middle;\n",
       "    }\n",
       "\n",
       "    .dataframe tbody tr th {\n",
       "        vertical-align: top;\n",
       "    }\n",
       "\n",
       "    .dataframe thead th {\n",
       "        text-align: right;\n",
       "    }\n",
       "</style>\n",
       "<table border=\"1\" class=\"dataframe\">\n",
       "  <thead>\n",
       "    <tr style=\"text-align: right;\">\n",
       "      <th></th>\n",
       "      <th>Metropolitan area</th>\n",
       "      <th>Population</th>\n",
       "      <th>NFL</th>\n",
       "      <th>MLB</th>\n",
       "      <th>NBA</th>\n",
       "      <th>NHL</th>\n",
       "    </tr>\n",
       "  </thead>\n",
       "  <tbody>\n",
       "    <tr>\n",
       "      <th>0</th>\n",
       "      <td>New York City</td>\n",
       "      <td>20153634</td>\n",
       "      <td>GiantsJets</td>\n",
       "      <td>YankeesMets</td>\n",
       "      <td>KnicksNets</td>\n",
       "      <td>RangersIslandersDevils</td>\n",
       "    </tr>\n",
       "    <tr>\n",
       "      <th>1</th>\n",
       "      <td>Los Angeles</td>\n",
       "      <td>13310447</td>\n",
       "      <td>RamsChargers</td>\n",
       "      <td>DodgersAngels</td>\n",
       "      <td>LakersClippers</td>\n",
       "      <td>KingsDucks</td>\n",
       "    </tr>\n",
       "    <tr>\n",
       "      <th>2</th>\n",
       "      <td>San Francisco Bay Area</td>\n",
       "      <td>6657982</td>\n",
       "      <td>49ersRaiders</td>\n",
       "      <td>GiantsAthletics</td>\n",
       "      <td>Warriors</td>\n",
       "      <td>Sharks</td>\n",
       "    </tr>\n",
       "    <tr>\n",
       "      <th>3</th>\n",
       "      <td>Chicago</td>\n",
       "      <td>9512999</td>\n",
       "      <td>Bears</td>\n",
       "      <td>CubsWhite Sox</td>\n",
       "      <td>Bulls</td>\n",
       "      <td>Blackhawks</td>\n",
       "    </tr>\n",
       "    <tr>\n",
       "      <th>4</th>\n",
       "      <td>Dallas–Fort Worth</td>\n",
       "      <td>7233323</td>\n",
       "      <td>Cowboys</td>\n",
       "      <td>Rangers</td>\n",
       "      <td>Mavericks</td>\n",
       "      <td>Stars</td>\n",
       "    </tr>\n",
       "  </tbody>\n",
       "</table>\n",
       "</div>"
      ],
      "text/plain": [
       "        Metropolitan area Population           NFL              MLB  \\\n",
       "0           New York City   20153634    GiantsJets      YankeesMets   \n",
       "1             Los Angeles   13310447  RamsChargers    DodgersAngels   \n",
       "2  San Francisco Bay Area    6657982  49ersRaiders  GiantsAthletics   \n",
       "3                 Chicago    9512999         Bears    CubsWhite Sox   \n",
       "4       Dallas–Fort Worth    7233323       Cowboys          Rangers   \n",
       "\n",
       "              NBA                     NHL  \n",
       "0      KnicksNets  RangersIslandersDevils  \n",
       "1  LakersClippers              KingsDucks  \n",
       "2        Warriors                  Sharks  \n",
       "3           Bulls              Blackhawks  \n",
       "4       Mavericks                   Stars  "
      ]
     },
     "execution_count": 38,
     "metadata": {},
     "output_type": "execute_result"
    }
   ],
   "source": [
    "import pandas as pd\n",
    "import numpy as np\n",
    "import scipy.stats as stats\n",
    "import re\n",
    "\n",
    "nhl_df = pd.read_csv(\"assets/nhl.csv\")\n",
    "cities = pd.read_html(\"assets/wikipedia_data.html\")[1]\n",
    "cities = cities.iloc[:-1, [0, 3, 5, 6, 7, 8]]\n",
    "cities.rename(columns={\"Population (2016 est.)[8]\": \"Population\"},\n",
    "               inplace=True)\n",
    "cities['NFL'] = cities['NFL'].str.replace(r\"\\[.*\\]\", \"\")\n",
    "cities['MLB'] = cities['MLB'].str.replace(r\"\\[.*\\]\", \"\")\n",
    "cities['NBA'] = cities['NBA'].str.replace(r\"\\[.*\\]\", \"\")\n",
    "cities['NHL'] = cities['NHL'].str.replace(r\"\\[.*\\]\", \"\")\n",
    "\n",
    "\n",
    "cities.head()"
   ]
  }
 ],
 "metadata": {
  "kernelspec": {
   "display_name": "Python 3",
   "language": "python",
   "name": "python3"
  },
  "language_info": {
   "codemirror_mode": {
    "name": "ipython",
    "version": 3
   },
   "file_extension": ".py",
   "mimetype": "text/x-python",
   "name": "python",
   "nbconvert_exporter": "python",
   "pygments_lexer": "ipython3",
   "version": "3.8.5"
  }
 },
 "nbformat": 4,
 "nbformat_minor": 4
}
