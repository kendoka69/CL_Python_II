{
 "cells": [
  {
   "cell_type": "markdown",
   "metadata": {},
   "source": [
    "## Part A \n",
    "Find a list of all of the names in the following string using regex."
   ]
  },
  {
   "cell_type": "code",
   "execution_count": 1,
   "metadata": {},
   "outputs": [
    {
     "name": "stdout",
     "output_type": "stream",
     "text": [
      "['Amy', 'Mary', 'Ruth', 'Peter']\n"
     ]
    }
   ],
   "source": [
    "import re\n",
    "\n",
    "def names():\n",
    "    simple_string = \"\"\"Amy is 5 years old, and her sister Mary is 2 years old. \n",
    "Ruth and Peter, their parents, have 3 kids.\"\"\"\n",
    "    \n",
    "    names = re.findall(\"([A-Z][a-z]*)\", simple_string)\n",
    "    return names\n",
    "print(names())"
   ]
  },
  {
   "cell_type": "code",
   "execution_count": 2,
   "metadata": {},
   "outputs": [],
   "source": [
    "assert len(names()) == 4, \"There are four names in the simple_string\""
   ]
  },
  {
   "cell_type": "markdown",
   "metadata": {},
   "source": [
    "# Part B\n",
    "The dataset file in assets/grades.txt contains a line separated list of people with their grade in a class. Create a regex to generate a list of just those students who received a B in the course."
   ]
  },
  {
   "cell_type": "code",
   "execution_count": 10,
   "metadata": {},
   "outputs": [
    {
     "name": "stdout",
     "output_type": "stream",
     "text": [
      "['Bell Kassulke: B', 'Simon Loidl: B', 'Elias Jovanovic: B', 'Hakim Botros: B', 'Emilie Lorentsen: B', 'Jake Wood: B', 'Fatemeh Akhtar: B', 'Kim Weston: B', 'Yasmin Dar: B', 'Viswamitra Upandhye: B', 'Killian Kaufman: B', 'Elwood Page: B', 'Elodie Booker: B', 'Adnan Chen: B', 'Hank Spinka: B', 'Hannah Bayer: B']\n"
     ]
    }
   ],
   "source": [
    "import re\n",
    "import os \n",
    "# cwd=os.getcwd()\n",
    "# print(cwd)\n",
    "# print(\"Current working directory:\", cwd)\n",
    "# os.chdir('/Users/kendoka69/Python2021_Course1/assignments/assignment1/assets/')\n",
    "\n",
    "def grades():\n",
    "    with open (\"assets/grades.txt\", \"r\") as file:\n",
    "        grades = file.read()\n",
    "    result = re.findall(\"[\\w ]*:\\ B\", grades)\n",
    "    return result\n",
    "print(grades())\n",
    "\n"
   ]
  },
  {
   "cell_type": "code",
   "execution_count": null,
   "metadata": {},
   "outputs": [],
   "source": [
    "assert len(grades())==16"
   ]
  },
  {
   "cell_type": "markdown",
   "metadata": {},
   "source": [
    "# Part C\n",
    "Consider the standard web log file in assets/logdata.txt. This file records the access a user makes when visiting a web page (like this one!). Each line of the log has the following items:\n",
    "\n",
    "- a host (e.g., '146.204.224.152')\n",
    "- a user_name (e.g., 'feest6811' **note: sometimes the user name is missing! In this case, use '-' as the value for the username.)**\n",
    "- the time a request was made (e.g., '21/Jun/2019:15:45:24 -0700')\n",
    "- the post request type (e.g., 'POST /incentivize HTTP/1.1' **note: not everything is a POST!**)\n",
    "Your task is to convert this into a list of dictionaries, where each dictionary looks like the following:\n",
    "\n",
    "example_dict = {\"host\":\"146.204.224.152\", \n",
    "                \"user_name\":\"feest6811\", \n",
    "                \"time\":\"21/Jun/2019:15:45:24 -0700\",\n",
    "                \"request\":\"POST /incentivize HTTP/1.1\"}\n",
    "                "
   ]
  },
  {
   "cell_type": "code",
   "execution_count": null,
   "metadata": {},
   "outputs": [],
   "source": [
    "import re\n",
    "import os\n",
    "\n",
    "os.chdir('/Users/kendoka69/Python2021_Course1/assignments/assignment1/assets/')\n",
    "\n",
    "with open(\"logdata.txt\", \"r\") as file:\n",
    "    logs = file.read()\n",
    "logs\n"
   ]
  },
  {
   "cell_type": "code",
   "execution_count": null,
   "metadata": {},
   "outputs": [],
   "source": [
    "pattern = \"\"\"\n",
    "        (?P<host>[0-9]+\\.[0-9]+\\.[0-9]+\\.[0-9]+)\n",
    "        (\\ - \\ )\n",
    "        (?P<user_name>(\\w*)(\\S))\n",
    "        (\\  \\S)\n",
    "        (?P<time>\\d+\\S\\w*\\S\\d+\\S\\d+\\S\\d+\\S\\d+\\s\\S\\d+)\n",
    "        (\\S\\s\\S)\n",
    "        (?P<request>\\w*\\s\\S*\\s\\w*\\S\\d.\\d*)\n",
    "        \"\"\"\n",
    "for item in re.finditer(pattern, logs, re.VERBOSE):\n",
    "    print(item.groupdict())"
   ]
  },
  {
   "cell_type": "code",
   "execution_count": null,
   "metadata": {},
   "outputs": [],
   "source": []
  }
 ],
 "metadata": {
  "kernelspec": {
   "display_name": "Python 3",
   "language": "python",
   "name": "python3"
  },
  "language_info": {
   "codemirror_mode": {
    "name": "ipython",
    "version": 3
   },
   "file_extension": ".py",
   "mimetype": "text/x-python",
   "name": "python",
   "nbconvert_exporter": "python",
   "pygments_lexer": "ipython3",
   "version": "3.8.5"
  }
 },
 "nbformat": 4,
 "nbformat_minor": 4
}
